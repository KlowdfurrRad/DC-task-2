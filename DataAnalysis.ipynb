{
  "nbformat": 4,
  "nbformat_minor": 0,
  "metadata": {
    "colab": {
      "provenance": []
    },
    "kernelspec": {
      "name": "python3",
      "display_name": "Python 3"
    },
    "language_info": {
      "name": "python"
    }
  },
  "cells": [
    {
      "cell_type": "code",
      "execution_count": 17,
      "metadata": {
        "id": "_roAD9-fXoWb"
      },
      "outputs": [],
      "source": [
        "import matplotlib.pyplot as plt\n",
        "import pandas as pd\n",
        "import numpy as np"
      ]
    },
    {
      "cell_type": "code",
      "metadata": {
        "id": "dfzi19R1R3mJ",
        "colab": {
          "base_uri": "https://localhost:8080/"
        },
        "outputId": "64530524-27fb-43b0-ba79-78d82f870365"
      },
      "source": [
        "df = pd.read_csv('data.csv')\n",
        "df.head(5) \n",
        "df.info()"
      ],
      "execution_count": 18,
      "outputs": [
        {
          "output_type": "stream",
          "name": "stdout",
          "text": [
            "<class 'pandas.core.frame.DataFrame'>\n",
            "RangeIndex: 327 entries, 0 to 326\n",
            "Data columns (total 19 columns):\n",
            " #   Column                             Non-Null Count  Dtype \n",
            "---  ------                             --------------  ----- \n",
            " 0   S.No                               327 non-null    int64 \n",
            " 1   EmpID                              327 non-null    object\n",
            " 2   Emp Name                           327 non-null    object\n",
            " 3   DOJ                                327 non-null    object\n",
            " 4   Designation                        327 non-null    object\n",
            " 5   Grade                              327 non-null    object\n",
            " 6   Attrition                          327 non-null    object\n",
            " 7   Location                           325 non-null    object\n",
            " 8   In Active Date                     327 non-null    object\n",
            " 9   Tenure                             327 non-null    object\n",
            " 10  Gender                             327 non-null    object\n",
            " 11  Education                          327 non-null    object\n",
            " 12  Age                                327 non-null    int64 \n",
            " 13  Last Rating                        327 non-null    int64 \n",
            " 14  Monthly Income                     327 non-null    int64 \n",
            " 15  Engagement Score (% Satisfaction)  327 non-null    object\n",
            " 16  Marital Status                     327 non-null    object\n",
            " 17  Zone                               327 non-null    object\n",
            " 18  Remarks                            327 non-null    object\n",
            "dtypes: int64(4), object(15)\n",
            "memory usage: 48.7+ KB\n"
          ]
        }
      ]
    },
    {
      "cell_type": "code",
      "source": [
        "df.describe()"
      ],
      "metadata": {
        "colab": {
          "base_uri": "https://localhost:8080/",
          "height": 300
        },
        "id": "fxdFbuVpaTV4",
        "outputId": "705a297a-4b82-489c-bfc4-4617a33277ed"
      },
      "execution_count": 19,
      "outputs": [
        {
          "output_type": "execute_result",
          "data": {
            "text/plain": [
              "             S.No         Age  Last Rating  Monthly Income\n",
              "count  327.000000  327.000000   327.000000      327.000000\n",
              "mean   164.000000   28.541284     3.229358    32592.948012\n",
              "std     94.540996    5.048596     1.038814    15995.368859\n",
              "min      1.000000   24.000000     1.000000    25010.000000\n",
              "25%     82.500000   25.000000     2.000000    25704.500000\n",
              "50%    164.000000   27.000000     3.000000    26389.000000\n",
              "75%    245.500000   28.500000     4.000000    31916.000000\n",
              "max    327.000000   54.000000     5.000000   233954.000000"
            ],
            "text/html": [
              "\n",
              "  <div id=\"df-57209c08-0a82-4c58-b701-a2b91eb34efb\">\n",
              "    <div class=\"colab-df-container\">\n",
              "      <div>\n",
              "<style scoped>\n",
              "    .dataframe tbody tr th:only-of-type {\n",
              "        vertical-align: middle;\n",
              "    }\n",
              "\n",
              "    .dataframe tbody tr th {\n",
              "        vertical-align: top;\n",
              "    }\n",
              "\n",
              "    .dataframe thead th {\n",
              "        text-align: right;\n",
              "    }\n",
              "</style>\n",
              "<table border=\"1\" class=\"dataframe\">\n",
              "  <thead>\n",
              "    <tr style=\"text-align: right;\">\n",
              "      <th></th>\n",
              "      <th>S.No</th>\n",
              "      <th>Age</th>\n",
              "      <th>Last Rating</th>\n",
              "      <th>Monthly Income</th>\n",
              "    </tr>\n",
              "  </thead>\n",
              "  <tbody>\n",
              "    <tr>\n",
              "      <th>count</th>\n",
              "      <td>327.000000</td>\n",
              "      <td>327.000000</td>\n",
              "      <td>327.000000</td>\n",
              "      <td>327.000000</td>\n",
              "    </tr>\n",
              "    <tr>\n",
              "      <th>mean</th>\n",
              "      <td>164.000000</td>\n",
              "      <td>28.541284</td>\n",
              "      <td>3.229358</td>\n",
              "      <td>32592.948012</td>\n",
              "    </tr>\n",
              "    <tr>\n",
              "      <th>std</th>\n",
              "      <td>94.540996</td>\n",
              "      <td>5.048596</td>\n",
              "      <td>1.038814</td>\n",
              "      <td>15995.368859</td>\n",
              "    </tr>\n",
              "    <tr>\n",
              "      <th>min</th>\n",
              "      <td>1.000000</td>\n",
              "      <td>24.000000</td>\n",
              "      <td>1.000000</td>\n",
              "      <td>25010.000000</td>\n",
              "    </tr>\n",
              "    <tr>\n",
              "      <th>25%</th>\n",
              "      <td>82.500000</td>\n",
              "      <td>25.000000</td>\n",
              "      <td>2.000000</td>\n",
              "      <td>25704.500000</td>\n",
              "    </tr>\n",
              "    <tr>\n",
              "      <th>50%</th>\n",
              "      <td>164.000000</td>\n",
              "      <td>27.000000</td>\n",
              "      <td>3.000000</td>\n",
              "      <td>26389.000000</td>\n",
              "    </tr>\n",
              "    <tr>\n",
              "      <th>75%</th>\n",
              "      <td>245.500000</td>\n",
              "      <td>28.500000</td>\n",
              "      <td>4.000000</td>\n",
              "      <td>31916.000000</td>\n",
              "    </tr>\n",
              "    <tr>\n",
              "      <th>max</th>\n",
              "      <td>327.000000</td>\n",
              "      <td>54.000000</td>\n",
              "      <td>5.000000</td>\n",
              "      <td>233954.000000</td>\n",
              "    </tr>\n",
              "  </tbody>\n",
              "</table>\n",
              "</div>\n",
              "      <button class=\"colab-df-convert\" onclick=\"convertToInteractive('df-57209c08-0a82-4c58-b701-a2b91eb34efb')\"\n",
              "              title=\"Convert this dataframe to an interactive table.\"\n",
              "              style=\"display:none;\">\n",
              "        \n",
              "  <svg xmlns=\"http://www.w3.org/2000/svg\" height=\"24px\"viewBox=\"0 0 24 24\"\n",
              "       width=\"24px\">\n",
              "    <path d=\"M0 0h24v24H0V0z\" fill=\"none\"/>\n",
              "    <path d=\"M18.56 5.44l.94 2.06.94-2.06 2.06-.94-2.06-.94-.94-2.06-.94 2.06-2.06.94zm-11 1L8.5 8.5l.94-2.06 2.06-.94-2.06-.94L8.5 2.5l-.94 2.06-2.06.94zm10 10l.94 2.06.94-2.06 2.06-.94-2.06-.94-.94-2.06-.94 2.06-2.06.94z\"/><path d=\"M17.41 7.96l-1.37-1.37c-.4-.4-.92-.59-1.43-.59-.52 0-1.04.2-1.43.59L10.3 9.45l-7.72 7.72c-.78.78-.78 2.05 0 2.83L4 21.41c.39.39.9.59 1.41.59.51 0 1.02-.2 1.41-.59l7.78-7.78 2.81-2.81c.8-.78.8-2.07 0-2.86zM5.41 20L4 18.59l7.72-7.72 1.47 1.35L5.41 20z\"/>\n",
              "  </svg>\n",
              "      </button>\n",
              "      \n",
              "  <style>\n",
              "    .colab-df-container {\n",
              "      display:flex;\n",
              "      flex-wrap:wrap;\n",
              "      gap: 12px;\n",
              "    }\n",
              "\n",
              "    .colab-df-convert {\n",
              "      background-color: #E8F0FE;\n",
              "      border: none;\n",
              "      border-radius: 50%;\n",
              "      cursor: pointer;\n",
              "      display: none;\n",
              "      fill: #1967D2;\n",
              "      height: 32px;\n",
              "      padding: 0 0 0 0;\n",
              "      width: 32px;\n",
              "    }\n",
              "\n",
              "    .colab-df-convert:hover {\n",
              "      background-color: #E2EBFA;\n",
              "      box-shadow: 0px 1px 2px rgba(60, 64, 67, 0.3), 0px 1px 3px 1px rgba(60, 64, 67, 0.15);\n",
              "      fill: #174EA6;\n",
              "    }\n",
              "\n",
              "    [theme=dark] .colab-df-convert {\n",
              "      background-color: #3B4455;\n",
              "      fill: #D2E3FC;\n",
              "    }\n",
              "\n",
              "    [theme=dark] .colab-df-convert:hover {\n",
              "      background-color: #434B5C;\n",
              "      box-shadow: 0px 1px 3px 1px rgba(0, 0, 0, 0.15);\n",
              "      filter: drop-shadow(0px 1px 2px rgba(0, 0, 0, 0.3));\n",
              "      fill: #FFFFFF;\n",
              "    }\n",
              "  </style>\n",
              "\n",
              "      <script>\n",
              "        const buttonEl =\n",
              "          document.querySelector('#df-57209c08-0a82-4c58-b701-a2b91eb34efb button.colab-df-convert');\n",
              "        buttonEl.style.display =\n",
              "          google.colab.kernel.accessAllowed ? 'block' : 'none';\n",
              "\n",
              "        async function convertToInteractive(key) {\n",
              "          const element = document.querySelector('#df-57209c08-0a82-4c58-b701-a2b91eb34efb');\n",
              "          const dataTable =\n",
              "            await google.colab.kernel.invokeFunction('convertToInteractive',\n",
              "                                                     [key], {});\n",
              "          if (!dataTable) return;\n",
              "\n",
              "          const docLinkHtml = 'Like what you see? Visit the ' +\n",
              "            '<a target=\"_blank\" href=https://colab.research.google.com/notebooks/data_table.ipynb>data table notebook</a>'\n",
              "            + ' to learn more about interactive tables.';\n",
              "          element.innerHTML = '';\n",
              "          dataTable['output_type'] = 'display_data';\n",
              "          await google.colab.output.renderOutput(dataTable, element);\n",
              "          const docLink = document.createElement('div');\n",
              "          docLink.innerHTML = docLinkHtml;\n",
              "          element.appendChild(docLink);\n",
              "        }\n",
              "      </script>\n",
              "    </div>\n",
              "  </div>\n",
              "  "
            ]
          },
          "metadata": {},
          "execution_count": 19
        }
      ]
    },
    {
      "cell_type": "code",
      "source": [
        "df.columns"
      ],
      "metadata": {
        "colab": {
          "base_uri": "https://localhost:8080/"
        },
        "id": "OtBx9MFnDAeA",
        "outputId": "0c0a4d6c-1024-4286-ded7-204f3e2a38d2"
      },
      "execution_count": 20,
      "outputs": [
        {
          "output_type": "execute_result",
          "data": {
            "text/plain": [
              "Index(['S.No', 'EmpID', 'Emp Name', 'DOJ', 'Designation', 'Grade',\n",
              "       'Attrition ', 'Location', 'In Active Date', 'Tenure', 'Gender',\n",
              "       'Education', 'Age', 'Last Rating', 'Monthly Income',\n",
              "       'Engagement Score (% Satisfaction)', 'Marital Status', 'Zone',\n",
              "       'Remarks'],\n",
              "      dtype='object')"
            ]
          },
          "metadata": {},
          "execution_count": 20
        }
      ]
    },
    {
      "cell_type": "code",
      "source": [
        "df.iloc[10:20] #from one row to one row\n",
        "df['Gender'] #one column\n",
        "df.iloc[:,0] # keep note that here first thing is row number , second thing is column number\n",
        "df[df['Gender']=='Female'] # to get only females ka dataframe\n",
        "# df['Age']=np.linspace(1,10,327)\n"
      ],
      "metadata": {
        "colab": {
          "base_uri": "https://localhost:8080/",
          "height": 1000
        },
        "id": "ovWkxWHfE6z1",
        "outputId": "30b6db4e-2356-49f5-d1a9-d74d8de192de"
      },
      "execution_count": 21,
      "outputs": [
        {
          "output_type": "execute_result",
          "data": {
            "text/plain": [
              "     S.No    EmpID Emp Name          DOJ         Designation Grade Attrition   \\\n",
              "0       1  XYZ2685     ABC1    22-Nov-10     Sales Executive    E1        Yes   \n",
              "8       9  XYZ3046     ABC9     1 Feb 12     Sales Executive    E1        Yes   \n",
              "15     16  XYZ2812    ABC16    14 Mar 11     Sales Executive    E1        Yes   \n",
              "35     36  XYZ1649    ABC36     2 Jun 08     Sales Executive    E1        Yes   \n",
              "44     45  XYZ2076    ABC45    13 Feb 09  Sr Sales Executive    E2        Yes   \n",
              "45     46  XYZ2848    ABC46     1 Apr 11     Sales Executive    E1        Yes   \n",
              "46     47  XYZ0063    ABC47    05/Jan/07    Regional Manager    M3        Yes   \n",
              "51     52  XYZ2433    ABC52    10 May 10    Sales Executive     E1        Yes   \n",
              "54     55  XYZ2887    ABC55    18 May 12    Regional Manager    M3        Yes   \n",
              "67     68  XYZ2807    ABC68     7 Mar 11     Sales Executive    E1        Yes   \n",
              "74     75  XYZ2415    ABC75     6 May 10          AM - Sales    M1        Yes   \n",
              "78     79  XYZ2775    ABC79    21 Feb 11     Sales Executive    E1        Yes   \n",
              "97     98  XYZ1804    ABC98     1 Sep 08    Sales Executive     E1        Yes   \n",
              "221   222  XYZ1773   ABC222    14-Aug-08     Sales Executive    E1        Yes   \n",
              "242   243  XYZ3179   ABC243    15-Jul-12     Sales Executive    E1        Yes   \n",
              "257   258  XYZ2221   ABC258    20-Sep-09     Sales Executive    E1        Yes   \n",
              "275   276  XYZ2652   ABC276  09-Oct-2010     Sales Executive    E1        Yes   \n",
              "308   309  XYZ2234   ABC309    10-Dec-09       Zonal Manager    M4        Yes   \n",
              "\n",
              "                  Location In Active Date  Tenure  Gender  Education  Age  \\\n",
              "0                Bhavnagar      26-May-12   1. 6   Female  Bachelors   27   \n",
              "8                    Vasai       5 Apr 12   0. 2   Female  Bachelors   26   \n",
              "15                 Madurai       9 May 12   1. 1   Female  Bachelors   26   \n",
              "35              Trivandrum      20 May 12  3 .11   Female  Bachelors   24   \n",
              "44               ZO Mumbai      16 Jun 12   3 .4   Female  Bachelors   27   \n",
              "45                  Rohini      15 May 12   1. 1   Female  Bachelors   28   \n",
              "46            HO Hyderabad       8 May 12   5 .4   Female  Bachelors   36   \n",
              "51   Madurai (Thallakulam)      30 Jun 12   2 .1   Female  Bachelors   24   \n",
              "54            HO Hyderabad      19 Jul 12   0. 2   Female  Bachelors   35   \n",
              "67               Bhavnagar       5 Aug 12   1. 4   Female  Bachelors   26   \n",
              "74               Velachery      10 Jul 12   2 .2   Female  Bachelors   32   \n",
              "78                Shahpura      17 Jul 12   1. 4   Female  Bachelors   28   \n",
              "97                Haldwani      30 Jul 12  3 .10   Female  Bachelors   25   \n",
              "221                  Garia      13 Oct 12   4 .1   Female  Bachelors   26   \n",
              "242                  Vizag       6 Dec 12   0. 4   Female  Bachelors   27   \n",
              "257                 Bandel      26 Dec 12   3 .3   Female  Bachelors   28   \n",
              "275                 Gondal       5 Feb 13   2 .3   Female  Bachelors   26   \n",
              "308                Chennai      15 Apr 13   3 .4   Female        MBA   40   \n",
              "\n",
              "     Last Rating  Monthly Income Engagement Score (% Satisfaction)  \\\n",
              "0              4           25535                                2%   \n",
              "8              2           25010                               42%   \n",
              "15             4           26266                               53%   \n",
              "35             2           25632                               13%   \n",
              "44             2           33648                               91%   \n",
              "45             2           25348                               12%   \n",
              "46             4           58259                               27%   \n",
              "51             3           26236                               79%   \n",
              "54             4           54583                               75%   \n",
              "67             4           26320                               45%   \n",
              "74             3           50129                               80%   \n",
              "78             4           25368                               94%   \n",
              "97             3           26654                               14%   \n",
              "221            4           25485                               83%   \n",
              "242            4           25470                               85%   \n",
              "257            4           25765                               10%   \n",
              "275            3           25636                               26%   \n",
              "308            4           84759                               85%   \n",
              "\n",
              "    Marital Status   Zone                                         Remarks  \n",
              "0         Divorced   West                         Issues with the Manager  \n",
              "8          Married   West                                  Lack of Growth  \n",
              "15         Single   South                                  Lack of Growth  \n",
              "35         Single   South                                  Lack of Growth  \n",
              "44         Married   West                         Issues with the Manager  \n",
              "45         Single   North                         Issues with the Manager  \n",
              "46         Single      HO  More Challenging Job Roles/ Higher designation  \n",
              "51        Divorced  South                                  Lack of Growth  \n",
              "54         Married     HO  More Challenging Job Roles/ Higher designation  \n",
              "67        Divorced   West                                  Lack of Growth  \n",
              "74        Divorced  South                                  Lack of Growth  \n",
              "78        Divorced  North                         Issues with the Manager  \n",
              "97         Single   North                                   Better Salary  \n",
              "221        Married   East                         Issues with the Manager  \n",
              "242        Married  South                         Issues with the Manager  \n",
              "257       Divorced   East                         Issues with the Manager  \n",
              "275        Single    West                         Issues with the Manager  \n",
              "308        Married  South  More Challenging Job Roles/ Higher designation  "
            ],
            "text/html": [
              "\n",
              "  <div id=\"df-19ec0751-ea17-4455-8461-49b260e16b91\">\n",
              "    <div class=\"colab-df-container\">\n",
              "      <div>\n",
              "<style scoped>\n",
              "    .dataframe tbody tr th:only-of-type {\n",
              "        vertical-align: middle;\n",
              "    }\n",
              "\n",
              "    .dataframe tbody tr th {\n",
              "        vertical-align: top;\n",
              "    }\n",
              "\n",
              "    .dataframe thead th {\n",
              "        text-align: right;\n",
              "    }\n",
              "</style>\n",
              "<table border=\"1\" class=\"dataframe\">\n",
              "  <thead>\n",
              "    <tr style=\"text-align: right;\">\n",
              "      <th></th>\n",
              "      <th>S.No</th>\n",
              "      <th>EmpID</th>\n",
              "      <th>Emp Name</th>\n",
              "      <th>DOJ</th>\n",
              "      <th>Designation</th>\n",
              "      <th>Grade</th>\n",
              "      <th>Attrition</th>\n",
              "      <th>Location</th>\n",
              "      <th>In Active Date</th>\n",
              "      <th>Tenure</th>\n",
              "      <th>Gender</th>\n",
              "      <th>Education</th>\n",
              "      <th>Age</th>\n",
              "      <th>Last Rating</th>\n",
              "      <th>Monthly Income</th>\n",
              "      <th>Engagement Score (% Satisfaction)</th>\n",
              "      <th>Marital Status</th>\n",
              "      <th>Zone</th>\n",
              "      <th>Remarks</th>\n",
              "    </tr>\n",
              "  </thead>\n",
              "  <tbody>\n",
              "    <tr>\n",
              "      <th>0</th>\n",
              "      <td>1</td>\n",
              "      <td>XYZ2685</td>\n",
              "      <td>ABC1</td>\n",
              "      <td>22-Nov-10</td>\n",
              "      <td>Sales Executive</td>\n",
              "      <td>E1</td>\n",
              "      <td>Yes</td>\n",
              "      <td>Bhavnagar</td>\n",
              "      <td>26-May-12</td>\n",
              "      <td>1. 6</td>\n",
              "      <td>Female</td>\n",
              "      <td>Bachelors</td>\n",
              "      <td>27</td>\n",
              "      <td>4</td>\n",
              "      <td>25535</td>\n",
              "      <td>2%</td>\n",
              "      <td>Divorced</td>\n",
              "      <td>West</td>\n",
              "      <td>Issues with the Manager</td>\n",
              "    </tr>\n",
              "    <tr>\n",
              "      <th>8</th>\n",
              "      <td>9</td>\n",
              "      <td>XYZ3046</td>\n",
              "      <td>ABC9</td>\n",
              "      <td>1 Feb 12</td>\n",
              "      <td>Sales Executive</td>\n",
              "      <td>E1</td>\n",
              "      <td>Yes</td>\n",
              "      <td>Vasai</td>\n",
              "      <td>5 Apr 12</td>\n",
              "      <td>0. 2</td>\n",
              "      <td>Female</td>\n",
              "      <td>Bachelors</td>\n",
              "      <td>26</td>\n",
              "      <td>2</td>\n",
              "      <td>25010</td>\n",
              "      <td>42%</td>\n",
              "      <td>Married</td>\n",
              "      <td>West</td>\n",
              "      <td>Lack of Growth</td>\n",
              "    </tr>\n",
              "    <tr>\n",
              "      <th>15</th>\n",
              "      <td>16</td>\n",
              "      <td>XYZ2812</td>\n",
              "      <td>ABC16</td>\n",
              "      <td>14 Mar 11</td>\n",
              "      <td>Sales Executive</td>\n",
              "      <td>E1</td>\n",
              "      <td>Yes</td>\n",
              "      <td>Madurai</td>\n",
              "      <td>9 May 12</td>\n",
              "      <td>1. 1</td>\n",
              "      <td>Female</td>\n",
              "      <td>Bachelors</td>\n",
              "      <td>26</td>\n",
              "      <td>4</td>\n",
              "      <td>26266</td>\n",
              "      <td>53%</td>\n",
              "      <td>Single</td>\n",
              "      <td>South</td>\n",
              "      <td>Lack of Growth</td>\n",
              "    </tr>\n",
              "    <tr>\n",
              "      <th>35</th>\n",
              "      <td>36</td>\n",
              "      <td>XYZ1649</td>\n",
              "      <td>ABC36</td>\n",
              "      <td>2 Jun 08</td>\n",
              "      <td>Sales Executive</td>\n",
              "      <td>E1</td>\n",
              "      <td>Yes</td>\n",
              "      <td>Trivandrum</td>\n",
              "      <td>20 May 12</td>\n",
              "      <td>3 .11</td>\n",
              "      <td>Female</td>\n",
              "      <td>Bachelors</td>\n",
              "      <td>24</td>\n",
              "      <td>2</td>\n",
              "      <td>25632</td>\n",
              "      <td>13%</td>\n",
              "      <td>Single</td>\n",
              "      <td>South</td>\n",
              "      <td>Lack of Growth</td>\n",
              "    </tr>\n",
              "    <tr>\n",
              "      <th>44</th>\n",
              "      <td>45</td>\n",
              "      <td>XYZ2076</td>\n",
              "      <td>ABC45</td>\n",
              "      <td>13 Feb 09</td>\n",
              "      <td>Sr Sales Executive</td>\n",
              "      <td>E2</td>\n",
              "      <td>Yes</td>\n",
              "      <td>ZO Mumbai</td>\n",
              "      <td>16 Jun 12</td>\n",
              "      <td>3 .4</td>\n",
              "      <td>Female</td>\n",
              "      <td>Bachelors</td>\n",
              "      <td>27</td>\n",
              "      <td>2</td>\n",
              "      <td>33648</td>\n",
              "      <td>91%</td>\n",
              "      <td>Married</td>\n",
              "      <td>West</td>\n",
              "      <td>Issues with the Manager</td>\n",
              "    </tr>\n",
              "    <tr>\n",
              "      <th>45</th>\n",
              "      <td>46</td>\n",
              "      <td>XYZ2848</td>\n",
              "      <td>ABC46</td>\n",
              "      <td>1 Apr 11</td>\n",
              "      <td>Sales Executive</td>\n",
              "      <td>E1</td>\n",
              "      <td>Yes</td>\n",
              "      <td>Rohini</td>\n",
              "      <td>15 May 12</td>\n",
              "      <td>1. 1</td>\n",
              "      <td>Female</td>\n",
              "      <td>Bachelors</td>\n",
              "      <td>28</td>\n",
              "      <td>2</td>\n",
              "      <td>25348</td>\n",
              "      <td>12%</td>\n",
              "      <td>Single</td>\n",
              "      <td>North</td>\n",
              "      <td>Issues with the Manager</td>\n",
              "    </tr>\n",
              "    <tr>\n",
              "      <th>46</th>\n",
              "      <td>47</td>\n",
              "      <td>XYZ0063</td>\n",
              "      <td>ABC47</td>\n",
              "      <td>05/Jan/07</td>\n",
              "      <td>Regional Manager</td>\n",
              "      <td>M3</td>\n",
              "      <td>Yes</td>\n",
              "      <td>HO Hyderabad</td>\n",
              "      <td>8 May 12</td>\n",
              "      <td>5 .4</td>\n",
              "      <td>Female</td>\n",
              "      <td>Bachelors</td>\n",
              "      <td>36</td>\n",
              "      <td>4</td>\n",
              "      <td>58259</td>\n",
              "      <td>27%</td>\n",
              "      <td>Single</td>\n",
              "      <td>HO</td>\n",
              "      <td>More Challenging Job Roles/ Higher designation</td>\n",
              "    </tr>\n",
              "    <tr>\n",
              "      <th>51</th>\n",
              "      <td>52</td>\n",
              "      <td>XYZ2433</td>\n",
              "      <td>ABC52</td>\n",
              "      <td>10 May 10</td>\n",
              "      <td>Sales Executive</td>\n",
              "      <td>E1</td>\n",
              "      <td>Yes</td>\n",
              "      <td>Madurai (Thallakulam)</td>\n",
              "      <td>30 Jun 12</td>\n",
              "      <td>2 .1</td>\n",
              "      <td>Female</td>\n",
              "      <td>Bachelors</td>\n",
              "      <td>24</td>\n",
              "      <td>3</td>\n",
              "      <td>26236</td>\n",
              "      <td>79%</td>\n",
              "      <td>Divorced</td>\n",
              "      <td>South</td>\n",
              "      <td>Lack of Growth</td>\n",
              "    </tr>\n",
              "    <tr>\n",
              "      <th>54</th>\n",
              "      <td>55</td>\n",
              "      <td>XYZ2887</td>\n",
              "      <td>ABC55</td>\n",
              "      <td>18 May 12</td>\n",
              "      <td>Regional Manager</td>\n",
              "      <td>M3</td>\n",
              "      <td>Yes</td>\n",
              "      <td>HO Hyderabad</td>\n",
              "      <td>19 Jul 12</td>\n",
              "      <td>0. 2</td>\n",
              "      <td>Female</td>\n",
              "      <td>Bachelors</td>\n",
              "      <td>35</td>\n",
              "      <td>4</td>\n",
              "      <td>54583</td>\n",
              "      <td>75%</td>\n",
              "      <td>Married</td>\n",
              "      <td>HO</td>\n",
              "      <td>More Challenging Job Roles/ Higher designation</td>\n",
              "    </tr>\n",
              "    <tr>\n",
              "      <th>67</th>\n",
              "      <td>68</td>\n",
              "      <td>XYZ2807</td>\n",
              "      <td>ABC68</td>\n",
              "      <td>7 Mar 11</td>\n",
              "      <td>Sales Executive</td>\n",
              "      <td>E1</td>\n",
              "      <td>Yes</td>\n",
              "      <td>Bhavnagar</td>\n",
              "      <td>5 Aug 12</td>\n",
              "      <td>1. 4</td>\n",
              "      <td>Female</td>\n",
              "      <td>Bachelors</td>\n",
              "      <td>26</td>\n",
              "      <td>4</td>\n",
              "      <td>26320</td>\n",
              "      <td>45%</td>\n",
              "      <td>Divorced</td>\n",
              "      <td>West</td>\n",
              "      <td>Lack of Growth</td>\n",
              "    </tr>\n",
              "    <tr>\n",
              "      <th>74</th>\n",
              "      <td>75</td>\n",
              "      <td>XYZ2415</td>\n",
              "      <td>ABC75</td>\n",
              "      <td>6 May 10</td>\n",
              "      <td>AM - Sales</td>\n",
              "      <td>M1</td>\n",
              "      <td>Yes</td>\n",
              "      <td>Velachery</td>\n",
              "      <td>10 Jul 12</td>\n",
              "      <td>2 .2</td>\n",
              "      <td>Female</td>\n",
              "      <td>Bachelors</td>\n",
              "      <td>32</td>\n",
              "      <td>3</td>\n",
              "      <td>50129</td>\n",
              "      <td>80%</td>\n",
              "      <td>Divorced</td>\n",
              "      <td>South</td>\n",
              "      <td>Lack of Growth</td>\n",
              "    </tr>\n",
              "    <tr>\n",
              "      <th>78</th>\n",
              "      <td>79</td>\n",
              "      <td>XYZ2775</td>\n",
              "      <td>ABC79</td>\n",
              "      <td>21 Feb 11</td>\n",
              "      <td>Sales Executive</td>\n",
              "      <td>E1</td>\n",
              "      <td>Yes</td>\n",
              "      <td>Shahpura</td>\n",
              "      <td>17 Jul 12</td>\n",
              "      <td>1. 4</td>\n",
              "      <td>Female</td>\n",
              "      <td>Bachelors</td>\n",
              "      <td>28</td>\n",
              "      <td>4</td>\n",
              "      <td>25368</td>\n",
              "      <td>94%</td>\n",
              "      <td>Divorced</td>\n",
              "      <td>North</td>\n",
              "      <td>Issues with the Manager</td>\n",
              "    </tr>\n",
              "    <tr>\n",
              "      <th>97</th>\n",
              "      <td>98</td>\n",
              "      <td>XYZ1804</td>\n",
              "      <td>ABC98</td>\n",
              "      <td>1 Sep 08</td>\n",
              "      <td>Sales Executive</td>\n",
              "      <td>E1</td>\n",
              "      <td>Yes</td>\n",
              "      <td>Haldwani</td>\n",
              "      <td>30 Jul 12</td>\n",
              "      <td>3 .10</td>\n",
              "      <td>Female</td>\n",
              "      <td>Bachelors</td>\n",
              "      <td>25</td>\n",
              "      <td>3</td>\n",
              "      <td>26654</td>\n",
              "      <td>14%</td>\n",
              "      <td>Single</td>\n",
              "      <td>North</td>\n",
              "      <td>Better Salary</td>\n",
              "    </tr>\n",
              "    <tr>\n",
              "      <th>221</th>\n",
              "      <td>222</td>\n",
              "      <td>XYZ1773</td>\n",
              "      <td>ABC222</td>\n",
              "      <td>14-Aug-08</td>\n",
              "      <td>Sales Executive</td>\n",
              "      <td>E1</td>\n",
              "      <td>Yes</td>\n",
              "      <td>Garia</td>\n",
              "      <td>13 Oct 12</td>\n",
              "      <td>4 .1</td>\n",
              "      <td>Female</td>\n",
              "      <td>Bachelors</td>\n",
              "      <td>26</td>\n",
              "      <td>4</td>\n",
              "      <td>25485</td>\n",
              "      <td>83%</td>\n",
              "      <td>Married</td>\n",
              "      <td>East</td>\n",
              "      <td>Issues with the Manager</td>\n",
              "    </tr>\n",
              "    <tr>\n",
              "      <th>242</th>\n",
              "      <td>243</td>\n",
              "      <td>XYZ3179</td>\n",
              "      <td>ABC243</td>\n",
              "      <td>15-Jul-12</td>\n",
              "      <td>Sales Executive</td>\n",
              "      <td>E1</td>\n",
              "      <td>Yes</td>\n",
              "      <td>Vizag</td>\n",
              "      <td>6 Dec 12</td>\n",
              "      <td>0. 4</td>\n",
              "      <td>Female</td>\n",
              "      <td>Bachelors</td>\n",
              "      <td>27</td>\n",
              "      <td>4</td>\n",
              "      <td>25470</td>\n",
              "      <td>85%</td>\n",
              "      <td>Married</td>\n",
              "      <td>South</td>\n",
              "      <td>Issues with the Manager</td>\n",
              "    </tr>\n",
              "    <tr>\n",
              "      <th>257</th>\n",
              "      <td>258</td>\n",
              "      <td>XYZ2221</td>\n",
              "      <td>ABC258</td>\n",
              "      <td>20-Sep-09</td>\n",
              "      <td>Sales Executive</td>\n",
              "      <td>E1</td>\n",
              "      <td>Yes</td>\n",
              "      <td>Bandel</td>\n",
              "      <td>26 Dec 12</td>\n",
              "      <td>3 .3</td>\n",
              "      <td>Female</td>\n",
              "      <td>Bachelors</td>\n",
              "      <td>28</td>\n",
              "      <td>4</td>\n",
              "      <td>25765</td>\n",
              "      <td>10%</td>\n",
              "      <td>Divorced</td>\n",
              "      <td>East</td>\n",
              "      <td>Issues with the Manager</td>\n",
              "    </tr>\n",
              "    <tr>\n",
              "      <th>275</th>\n",
              "      <td>276</td>\n",
              "      <td>XYZ2652</td>\n",
              "      <td>ABC276</td>\n",
              "      <td>09-Oct-2010</td>\n",
              "      <td>Sales Executive</td>\n",
              "      <td>E1</td>\n",
              "      <td>Yes</td>\n",
              "      <td>Gondal</td>\n",
              "      <td>5 Feb 13</td>\n",
              "      <td>2 .3</td>\n",
              "      <td>Female</td>\n",
              "      <td>Bachelors</td>\n",
              "      <td>26</td>\n",
              "      <td>3</td>\n",
              "      <td>25636</td>\n",
              "      <td>26%</td>\n",
              "      <td>Single</td>\n",
              "      <td>West</td>\n",
              "      <td>Issues with the Manager</td>\n",
              "    </tr>\n",
              "    <tr>\n",
              "      <th>308</th>\n",
              "      <td>309</td>\n",
              "      <td>XYZ2234</td>\n",
              "      <td>ABC309</td>\n",
              "      <td>10-Dec-09</td>\n",
              "      <td>Zonal Manager</td>\n",
              "      <td>M4</td>\n",
              "      <td>Yes</td>\n",
              "      <td>Chennai</td>\n",
              "      <td>15 Apr 13</td>\n",
              "      <td>3 .4</td>\n",
              "      <td>Female</td>\n",
              "      <td>MBA</td>\n",
              "      <td>40</td>\n",
              "      <td>4</td>\n",
              "      <td>84759</td>\n",
              "      <td>85%</td>\n",
              "      <td>Married</td>\n",
              "      <td>South</td>\n",
              "      <td>More Challenging Job Roles/ Higher designation</td>\n",
              "    </tr>\n",
              "  </tbody>\n",
              "</table>\n",
              "</div>\n",
              "      <button class=\"colab-df-convert\" onclick=\"convertToInteractive('df-19ec0751-ea17-4455-8461-49b260e16b91')\"\n",
              "              title=\"Convert this dataframe to an interactive table.\"\n",
              "              style=\"display:none;\">\n",
              "        \n",
              "  <svg xmlns=\"http://www.w3.org/2000/svg\" height=\"24px\"viewBox=\"0 0 24 24\"\n",
              "       width=\"24px\">\n",
              "    <path d=\"M0 0h24v24H0V0z\" fill=\"none\"/>\n",
              "    <path d=\"M18.56 5.44l.94 2.06.94-2.06 2.06-.94-2.06-.94-.94-2.06-.94 2.06-2.06.94zm-11 1L8.5 8.5l.94-2.06 2.06-.94-2.06-.94L8.5 2.5l-.94 2.06-2.06.94zm10 10l.94 2.06.94-2.06 2.06-.94-2.06-.94-.94-2.06-.94 2.06-2.06.94z\"/><path d=\"M17.41 7.96l-1.37-1.37c-.4-.4-.92-.59-1.43-.59-.52 0-1.04.2-1.43.59L10.3 9.45l-7.72 7.72c-.78.78-.78 2.05 0 2.83L4 21.41c.39.39.9.59 1.41.59.51 0 1.02-.2 1.41-.59l7.78-7.78 2.81-2.81c.8-.78.8-2.07 0-2.86zM5.41 20L4 18.59l7.72-7.72 1.47 1.35L5.41 20z\"/>\n",
              "  </svg>\n",
              "      </button>\n",
              "      \n",
              "  <style>\n",
              "    .colab-df-container {\n",
              "      display:flex;\n",
              "      flex-wrap:wrap;\n",
              "      gap: 12px;\n",
              "    }\n",
              "\n",
              "    .colab-df-convert {\n",
              "      background-color: #E8F0FE;\n",
              "      border: none;\n",
              "      border-radius: 50%;\n",
              "      cursor: pointer;\n",
              "      display: none;\n",
              "      fill: #1967D2;\n",
              "      height: 32px;\n",
              "      padding: 0 0 0 0;\n",
              "      width: 32px;\n",
              "    }\n",
              "\n",
              "    .colab-df-convert:hover {\n",
              "      background-color: #E2EBFA;\n",
              "      box-shadow: 0px 1px 2px rgba(60, 64, 67, 0.3), 0px 1px 3px 1px rgba(60, 64, 67, 0.15);\n",
              "      fill: #174EA6;\n",
              "    }\n",
              "\n",
              "    [theme=dark] .colab-df-convert {\n",
              "      background-color: #3B4455;\n",
              "      fill: #D2E3FC;\n",
              "    }\n",
              "\n",
              "    [theme=dark] .colab-df-convert:hover {\n",
              "      background-color: #434B5C;\n",
              "      box-shadow: 0px 1px 3px 1px rgba(0, 0, 0, 0.15);\n",
              "      filter: drop-shadow(0px 1px 2px rgba(0, 0, 0, 0.3));\n",
              "      fill: #FFFFFF;\n",
              "    }\n",
              "  </style>\n",
              "\n",
              "      <script>\n",
              "        const buttonEl =\n",
              "          document.querySelector('#df-19ec0751-ea17-4455-8461-49b260e16b91 button.colab-df-convert');\n",
              "        buttonEl.style.display =\n",
              "          google.colab.kernel.accessAllowed ? 'block' : 'none';\n",
              "\n",
              "        async function convertToInteractive(key) {\n",
              "          const element = document.querySelector('#df-19ec0751-ea17-4455-8461-49b260e16b91');\n",
              "          const dataTable =\n",
              "            await google.colab.kernel.invokeFunction('convertToInteractive',\n",
              "                                                     [key], {});\n",
              "          if (!dataTable) return;\n",
              "\n",
              "          const docLinkHtml = 'Like what you see? Visit the ' +\n",
              "            '<a target=\"_blank\" href=https://colab.research.google.com/notebooks/data_table.ipynb>data table notebook</a>'\n",
              "            + ' to learn more about interactive tables.';\n",
              "          element.innerHTML = '';\n",
              "          dataTable['output_type'] = 'display_data';\n",
              "          await google.colab.output.renderOutput(dataTable, element);\n",
              "          const docLink = document.createElement('div');\n",
              "          docLink.innerHTML = docLinkHtml;\n",
              "          element.appendChild(docLink);\n",
              "        }\n",
              "      </script>\n",
              "    </div>\n",
              "  </div>\n",
              "  "
            ]
          },
          "metadata": {},
          "execution_count": 21
        }
      ]
    },
    {
      "cell_type": "code",
      "source": [
        "dfnonex=df[df['Monthly Income']<100000] #removing extreme with 200000 income . hence the name non ex = non extremes\n",
        "df1=dfnonex['Tenure'].to_numpy()\n",
        "#convert string to float below\n",
        "for i in range(0,len(df1)):\n",
        "  df1[i]=float(df1[i].replace(\" \",\"\"))\n",
        "\n",
        "df2=dfnonex['Monthly Income'].to_numpy()\n",
        "plt.scatter(df1, df2)\n",
        "plt.xlabel(\"Tenure\")\n",
        "plt.ylabel('Monthly Income')\n",
        "plt.show()\n"
      ],
      "metadata": {
        "colab": {
          "base_uri": "https://localhost:8080/",
          "height": 279
        },
        "id": "kzljfU5Zecuk",
        "outputId": "aa9e7c29-7095-46be-b752-abf0616fd399"
      },
      "execution_count": 38,
      "outputs": [
        {
          "output_type": "display_data",
          "data": {
            "text/plain": [
              "<Figure size 432x288 with 1 Axes>"
            ],
            "image/png": "[encoded data removed]"
          },
          "metadata": {
            "needs_background": "light"
          }
        }
      ]
    },
    {
      "cell_type": "markdown",
      "source": [
        "Nearly **everyone** with less than 30000 income left before 6 years with most leaving before 3 years itself (249 left before 3 years , calculated in below cell).\n",
        "People with 30000-40000 income had bit more time in company. They were more evenly spread with median lying near 4 years.\n"
      ],
      "metadata": {
        "id": "UWtOSsMHpQSQ"
      }
    },
    {
      "cell_type": "code",
      "source": [
        "x=0\n",
        "for i in range(0,len(df1)):\n",
        "  if(df1[i]<3):\n",
        "    x=x+1\n",
        "x"
      ],
      "metadata": {
        "colab": {
          "base_uri": "https://localhost:8080/"
        },
        "id": "3C7xFA0X8wuA",
        "outputId": "6d97c5de-efb2-4a2c-cc01-a59fb32713ee"
      },
      "execution_count": 32,
      "outputs": [
        {
          "output_type": "execute_result",
          "data": {
            "text/plain": [
              "249"
            ]
          },
          "metadata": {},
          "execution_count": 32
        }
      ]
    },
    {
      "cell_type": "code",
      "source": [
        "\n",
        "plt.scatter(dfnonex['Age'].to_numpy(),df1)\n",
        "plt.xlabel('Age')\n",
        "plt.ylabel('Tenure')\n",
        "plt.plot()"
      ],
      "metadata": {
        "colab": {
          "base_uri": "https://localhost:8080/",
          "height": 296
        },
        "id": "QiSenViAGHIK",
        "outputId": "135e466c-6fdb-464d-b1ba-0ecd9d9519a8"
      },
      "execution_count": 43,
      "outputs": [
        {
          "output_type": "execute_result",
          "data": {
            "text/plain": [
              "[]"
            ]
          },
          "metadata": {},
          "execution_count": 43
        },
        {
          "output_type": "display_data",
          "data": {
            "text/plain": [
              "<Figure size 432x288 with 1 Axes>"
            ],
            "image/png": "[encoded data removed]"
          },
          "metadata": {
            "needs_background": "light"
          }
        }
      ]
    },
    {
      "cell_type": "markdown",
      "source": [
        "It is slightly observable that as age increases the tenure decreases slightly as we observe a slope . This may be due to retiring of seniors or switching of companies , we do not know."
      ],
      "metadata": {
        "id": "6--MwzvkG5Or"
      }
    },
    {
      "cell_type": "code",
      "source": [
        "plt.scatter(dfnonex['Age'].to_numpy(),df2)\n",
        "plt.xlabel('Age')\n",
        "plt.ylabel('Salary')\n",
        "plt.plot()"
      ],
      "metadata": {
        "colab": {
          "base_uri": "https://localhost:8080/",
          "height": 296
        },
        "id": "5V60Z_F9HgbO",
        "outputId": "10042baf-3e98-4fea-8cd7-f52a33d78550"
      },
      "execution_count": 46,
      "outputs": [
        {
          "output_type": "execute_result",
          "data": {
            "text/plain": [
              "[]"
            ]
          },
          "metadata": {},
          "execution_count": 46
        },
        {
          "output_type": "display_data",
          "data": {
            "text/plain": [
              "<Figure size 432x288 with 1 Axes>"
            ],
            "image/png": "[encoded data removed]"
          },
          "metadata": {
            "needs_background": "light"
          }
        }
      ]
    },
    {
      "cell_type": "markdown",
      "source": [
        "It is observable that more senior employees generally fall under a higher salary bracket. Observing this trend we can likely say there are 3-4 salary brackets.\n",
        "\n",
        "more than 30000 bracket with mostly employees starting their careers\n",
        "\n",
        "30000-40000 bracket : mid employees\n",
        "\n",
        "50000-60000 bracket : senior employees \n",
        "\n",
        "70000+ bracket : senior brass in important positions of the company and they are all 40+ years of age \n",
        "\n",
        "Note: There is one 200000+ salary employee who is not in this plot as it is too extreme . He is most likely held a very high position like ceo or cto .\n",
        "\n",
        "Lets see the analysis with respect to designation to see if our analysis was correct.\n",
        "\n",
        "age vs designation\n",
        "salary vs designation\n",
        "designations vs number of ppl"
      ],
      "metadata": {
        "id": "jnkphtnfHmmV"
      }
    },
    {
      "cell_type": "code",
      "source": [
        "designations=np.unique(df['Designation'].to_numpy())\n",
        "meansalaries=np.zeros(len(designations))\n",
        "for i in range(0,len(designations)):\n",
        "  x=0\n",
        "  for j in range(0,len(df)):\n",
        "    if(df['Designation'][j]==designations[i]):\n",
        "      x=x+1\n",
        "      meansalaries[i]=df['Monthly Income'][j]+meansalaries[i]\n",
        "  meansalaries[i]=meansalaries[i]/x\n",
        "\n",
        "plt.barh(designations,meansalaries)\n",
        "plt.ylabel('designation')\n",
        "plt.xlabel('mean salary')\n",
        "plt.plot()\n",
        "\n"
      ],
      "metadata": {
        "colab": {
          "base_uri": "https://localhost:8080/",
          "height": 296
        },
        "id": "lof0ZJhWNjJB",
        "outputId": "f9438871-5d1d-46b7-ea55-f58865f5b3b7"
      },
      "execution_count": 59,
      "outputs": [
        {
          "output_type": "execute_result",
          "data": {
            "text/plain": [
              "[]"
            ]
          },
          "metadata": {},
          "execution_count": 59
        },
        {
          "output_type": "display_data",
          "data": {
            "text/plain": [
              "<Figure size 432x288 with 1 Axes>"
            ],
            "image/png": "[encoded data removed]"
          },
          "metadata": {
            "needs_background": "light"
          }
        }
      ]
    },
    {
      "cell_type": "markdown",
      "source": [
        "As expected\n",
        "\n",
        "  Sales executives are 20000-30000\n",
        "\n",
        "  SR sales exe are 30000-40000\n",
        "\n",
        "  AM sales and Regional managers are 50k-60k\n",
        "\n",
        "  Zonal managers are 70k+ \n",
        "\n",
        "  And the National Head is the lone 200k+ employee"
      ],
      "metadata": {
        "id": "wl6r7ueXR2DC"
      }
    },
    {
      "cell_type": "code",
      "source": [
        "df1=df['Gender']\n",
        "gendre=['female','male']\n",
        "amt=[0,0]\n",
        "for i in range(0,len(df['Gender'])):\n",
        "  if(df1[i]=='Male'):\n",
        "    amt[1]=amt[1]+1\n",
        "  else:\n",
        "    amt[0]=amt[0]+1\n",
        "plt.bar(gendre,amt)"
      ],
      "metadata": {
        "colab": {
          "base_uri": "https://localhost:8080/",
          "height": 282
        },
        "id": "I-bqPdd8e1K8",
        "outputId": "df673ce6-e4f8-4685-92f8-c9db6a8febb6"
      },
      "execution_count": 16,
      "outputs": [
        {
          "output_type": "execute_result",
          "data": {
            "text/plain": [
              "<BarContainer object of 2 artists>"
            ]
          },
          "metadata": {},
          "execution_count": 16
        },
        {
          "output_type": "display_data",
          "data": {
            "text/plain": [
              "<Figure size 432x288 with 1 Axes>"
            ],
            "image/png": "[encoded data removed]"
          },
          "metadata": {
            "needs_background": "light"
          }
        }
      ]
    },
    {
      "cell_type": "markdown",
      "source": [
        "Above is the distribution of males and females who left. Many more males are leaving the company compared to females. However we cannot make any assertion based on this . It may either be that males dont stay in one company for long or the company is female friendly or less percentage of females in the company. "
      ],
      "metadata": {
        "id": "SJKBtLoYGfO6"
      }
    },
    {
      "cell_type": "code",
      "source": [
        "plt.hist(dfnonex['Monthly Income'].to_numpy(),range(20000,80000,10000))\n",
        "plt.xlabel('Salary')\n",
        "plt.ylabel('People')\n",
        "plt.plot()"
      ],
      "metadata": {
        "colab": {
          "base_uri": "https://localhost:8080/",
          "height": 296
        },
        "id": "mbipJd8ZELap",
        "outputId": "ac240dde-9d81-4068-b503-45736a1e351c"
      },
      "execution_count": 48,
      "outputs": [
        {
          "output_type": "execute_result",
          "data": {
            "text/plain": [
              "[]"
            ]
          },
          "metadata": {},
          "execution_count": 48
        },
        {
          "output_type": "display_data",
          "data": {
            "text/plain": [
              "<Figure size 432x288 with 1 Axes>"
            ],
            "image/png": "[encoded data removed]"
          },
          "metadata": {
            "needs_background": "light"
          }
        }
      ]
    },
    {
      "cell_type": "markdown",
      "source": [
        "This shows that most employees getting 20000-30000 income have left ( sales executives). Fewer higher pay employees such as sr sales exe , am sales , regional managers etc left.  "
      ],
      "metadata": {
        "id": "f_KcBbU-M_wL"
      }
    }
  ]
}